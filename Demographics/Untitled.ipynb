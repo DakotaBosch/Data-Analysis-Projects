{
 "cells": [
  {
   "cell_type": "code",
   "execution_count": 53,
   "metadata": {
    "scrolled": false
   },
   "outputs": [],
   "source": [
    "import pandas as pd\n",
    "import numpy as np\n",
    "# Read data from file\n",
    "df = pd.read_csv(r'adult.data.csv')\n",
    "\n",
    "# How many of each race are represented in this dataset? This should be a Pandas series with race names as the index labels.\n",
    "race_count = None\n",
    "\n",
    "# What is the average age of men?\n",
    "\n",
    "m = df[df['sex'].str.contains('Male')]\n",
    "average_age_men = m[\"age\"].mean()\n",
    "\n",
    "# What is the percentage of people who have a Bachelor's degree?\n",
    "b = len(df[df['education'].str.contains('Bachelors')])\n",
    "percentage_bachelors = b / len(df)\n",
    "\n",
    "#print(average_age_men, percentage_bachelors)\n",
    "# What percentage of people with advanced education (`Bachelors`, `Masters`, or `Doctorate`) make more than 50K?\n",
    "# What percentage of people without advanced education make more than 50K?\n",
    "\n",
    "# with and without `Bachelors`, `Masters`, or `Doctorate`\n",
    "h = len(df[df['education'].str.contains('Bachelors|Masters|Doctorate')])\n",
    "higher_education = h / len(df)\n",
    "lower_education = 1 - higher_education\n",
    "\n",
    "#print(higher_education, lower_education)\n",
    "\n",
    "# percentage with salary >50K\n",
    "hr = df[df['education'].str.contains('Bachelors|Masters|Doctorate')]\n",
    "hr = len(hr[hr['salary'].str.contains('>')])\n",
    "higher_education_rich = hr / h\n",
    "lower_education_rich = 1 - (hr/h)\n",
    "\n",
    "#print(hr/h, 1-hr/h)\n",
    "# What is the minimum number of hours a person works per week (hours-per-week feature)?\n",
    "min_work_hours = df[\"hours-per-week\"].min()\n",
    "\n",
    "# What percentage of the people who work the minimum number of hours per week have a salary of >50K?\n",
    "x = df[df[\"hours-per-week\"] == 1]\n",
    "num_min_workers = len(x)\n",
    "rich_percentage = len(x[x[\"salary\"].str.contains('>')]) / len(x)\n",
    "\n",
    "#print(num_min_workers, rich_percentage)\n",
    "# What country has the highest percentage of people that earn >50K?\n",
    "u = df['native-country'].unique()\n",
    "p = np.zeros(u.shape)\n",
    "for i in range(len(u)):\n",
    "    a = df[df[\"native-country\"].str.contains(u[i], regex=False)]\n",
    "    p[i] = len(a[a[\"salary\"].str.contains('>')])/ len(a)\n",
    "    if p[i] == np.max(p):\n",
    "        hec = u[i]\n",
    "        hecp = p[i]\n",
    "\n",
    "highest_earning_country = hec\n",
    "highest_earning_country_percentage = hecp\n",
    "#print(hec, hecp)\n",
    "\n",
    "# Identify the most popular occupation for those who earn >50K in India.\n",
    "ind = df[df['native-country'].str.contains('India') & df['salary'].str.contains('>')]\n",
    "top_IN_occupation = ind['occupation'].value_counts().idxmax()\n",
    "#print(top_IN_occupation)\n"
   ]
  },
  {
   "cell_type": "code",
   "execution_count": null,
   "metadata": {},
   "outputs": [],
   "source": []
  },
  {
   "cell_type": "code",
   "execution_count": null,
   "metadata": {},
   "outputs": [],
   "source": []
  }
 ],
 "metadata": {
  "kernelspec": {
   "display_name": "Python 3",
   "language": "python",
   "name": "python3"
  },
  "language_info": {
   "codemirror_mode": {
    "name": "ipython",
    "version": 3
   },
   "file_extension": ".py",
   "mimetype": "text/x-python",
   "name": "python",
   "nbconvert_exporter": "python",
   "pygments_lexer": "ipython3",
   "version": "3.6.4"
  }
 },
 "nbformat": 4,
 "nbformat_minor": 2
}
