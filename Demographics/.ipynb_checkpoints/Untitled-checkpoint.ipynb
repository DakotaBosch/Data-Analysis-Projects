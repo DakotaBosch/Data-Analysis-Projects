{
 "cells": [
  {
   "cell_type": "code",
   "execution_count": 2,
   "metadata": {
    "scrolled": false
   },
   "outputs": [
    {
     "name": "stdout",
     "output_type": "stream",
     "text": [
      "39.43354749885268 0.16446055096587942\n",
      "0.23006050182733945 0.7699394981726606\n",
      "0.46535843011613937 0.5346415698838607\n"
     ]
    },
    {
     "ename": "NameError",
     "evalue": "name 'pandas' is not defined",
     "output_type": "error",
     "traceback": [
      "\u001b[1;31m---------------------------------------------------------------------------\u001b[0m",
      "\u001b[1;31mNameError\u001b[0m                                 Traceback (most recent call last)",
      "\u001b[1;32m<ipython-input-2-82f08b22d0ea>\u001b[0m in \u001b[0;36m<module>\u001b[1;34m()\u001b[0m\n\u001b[0;32m     45\u001b[0m \u001b[0mc2\u001b[0m \u001b[1;33m=\u001b[0m \u001b[0mdf\u001b[0m\u001b[1;33m[\u001b[0m\u001b[0mdf\u001b[0m\u001b[1;33m[\u001b[0m\u001b[1;34m'salary'\u001b[0m\u001b[1;33m]\u001b[0m\u001b[1;33m.\u001b[0m\u001b[0mstr\u001b[0m\u001b[1;33m.\u001b[0m\u001b[0mcontains\u001b[0m\u001b[1;33m(\u001b[0m\u001b[1;34m'>'\u001b[0m\u001b[1;33m)\u001b[0m\u001b[1;33m]\u001b[0m\u001b[1;33m[\u001b[0m\u001b[1;34m'native-country'\u001b[0m\u001b[1;33m]\u001b[0m\u001b[1;33m.\u001b[0m\u001b[0mvalue_counts\u001b[0m\u001b[1;33m(\u001b[0m\u001b[1;33m)\u001b[0m\u001b[1;33m\u001b[0m\u001b[0m\n\u001b[0;32m     46\u001b[0m \u001b[1;33m\u001b[0m\u001b[0m\n\u001b[1;32m---> 47\u001b[1;33m \u001b[0mu\u001b[0m \u001b[1;33m=\u001b[0m \u001b[0mpandas\u001b[0m\u001b[1;33m.\u001b[0m\u001b[0muniquelist\u001b[0m\u001b[1;33m\u001b[0m\u001b[0m\n\u001b[0m\u001b[0;32m     48\u001b[0m \u001b[0mp\u001b[0m \u001b[1;33m=\u001b[0m \u001b[0mnp\u001b[0m\u001b[1;33m.\u001b[0m\u001b[0mzeros\u001b[0m\u001b[1;33m(\u001b[0m\u001b[0mu\u001b[0m\u001b[1;33m.\u001b[0m\u001b[0mshape\u001b[0m\u001b[1;33m)\u001b[0m\u001b[1;33m\u001b[0m\u001b[0m\n\u001b[0;32m     49\u001b[0m \u001b[1;32mfor\u001b[0m \u001b[0mi\u001b[0m \u001b[1;32min\u001b[0m \u001b[0mrange\u001b[0m\u001b[1;33m(\u001b[0m\u001b[0mlen\u001b[0m\u001b[1;33m(\u001b[0m\u001b[0mu\u001b[0m\u001b[1;33m)\u001b[0m\u001b[1;33m)\u001b[0m\u001b[1;33m:\u001b[0m\u001b[1;33m\u001b[0m\u001b[0m\n",
      "\u001b[1;31mNameError\u001b[0m: name 'pandas' is not defined"
     ]
    }
   ],
   "source": [
    "import pandas as pd\n",
    "# Read data from file\n",
    "df = pd.read_csv(r'adult.data.csv')\n",
    "\n",
    "# How many of each race are represented in this dataset? This should be a Pandas series with race names as the index labels.\n",
    "race_count = None\n",
    "\n",
    "# What is the average age of men?\n",
    "\n",
    "m = df[df['sex'].str.contains('Male')]\n",
    "average_age_men = m[\"age\"].mean()\n",
    "\n",
    "# What is the percentage of people who have a Bachelor's degree?\n",
    "b = len(df[df['education'].str.contains('Bachelors')])\n",
    "percentage_bachelors = b / len(df)\n",
    "\n",
    "print(average_age_men, percentage_bachelors)\n",
    "# What percentage of people with advanced education (`Bachelors`, `Masters`, or `Doctorate`) make more than 50K?\n",
    "# What percentage of people without advanced education make more than 50K?\n",
    "\n",
    "# with and without `Bachelors`, `Masters`, or `Doctorate`\n",
    "h = len(df[df['education'].str.contains('Bachelors|Masters|Doctorate')])\n",
    "higher_education = h / len(df)\n",
    "lower_education = 1 - higher_education\n",
    "\n",
    "print(higher_education, lower_education)\n",
    "\n",
    "# percentage with salary >50K\n",
    "hr = df[df['education'].str.contains('Bachelors|Masters|Doctorate')]\n",
    "hr = len(hr[hr['salary'].str.contains('>')])\n",
    "higher_education_rich = hr / h\n",
    "lower_education_rich = 1 - (hr/h)\n",
    "\n",
    "print(hr/h, 1-hr/h)\n",
    "# What is the minimum number of hours a person works per week (hours-per-week feature)?\n",
    "min_work_hours = df[\"hours-per-week\"].min()\n",
    "\n",
    "# What percentage of the people who work the minimum number of hours per week have a salary of >50K?\n",
    "x = df[df[\"hours-per-week\"] == 1]\n",
    "num_min_workers = len(x)\n",
    "rich_percentage = len(x[\"salary\"].str.contains('>')) / len(x)\n",
    "\n",
    "# What country has the highest percentage of people that earn >50K?\n",
    "c1 = df['native-country'].value_counts()\n",
    "c2 = df[df['salary'].str.contains('>')]['native-country'].value_counts()\n",
    "\n",
    "u = pd.uniquelist\n",
    "p = np.zeros(u.shape)\n",
    "for i in range(len(u)):\n",
    "    a = x[\"country\"].str.contains(u[i])\n",
    "    p[i] = len(a[\"salary\"].str.contains('>'))/ len(a)\n",
    "    if p[i] == np.max(p):\n",
    "        hec = u[i]\n",
    "        hecp = p[i]\n",
    "\n",
    "print (c1.shape, c2.shape)\n",
    "highest_earning_country = hec\n",
    "highest_earning_country_percentage = hecp\n",
    "\n",
    "# Identify the most popular occupation for those who earn >50K in India.\n",
    "top_IN_occupation = None\n"
   ]
  },
  {
   "cell_type": "code",
   "execution_count": null,
   "metadata": {},
   "outputs": [],
   "source": []
  },
  {
   "cell_type": "code",
   "execution_count": null,
   "metadata": {},
   "outputs": [],
   "source": []
  }
 ],
 "metadata": {
  "kernelspec": {
   "display_name": "Python 3",
   "language": "python",
   "name": "python3"
  },
  "language_info": {
   "codemirror_mode": {
    "name": "ipython",
    "version": 3
   },
   "file_extension": ".py",
   "mimetype": "text/x-python",
   "name": "python",
   "nbconvert_exporter": "python",
   "pygments_lexer": "ipython3",
   "version": "3.6.4"
  }
 },
 "nbformat": 4,
 "nbformat_minor": 2
}
